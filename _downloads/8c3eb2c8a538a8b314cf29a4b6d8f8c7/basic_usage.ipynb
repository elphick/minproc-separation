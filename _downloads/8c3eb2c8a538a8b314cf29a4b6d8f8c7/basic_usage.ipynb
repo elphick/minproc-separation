{
  "cells": [
    {
      "cell_type": "markdown",
      "metadata": {},
      "source": [
        "\n# Basic usage\n\nA simple example demonstrating how to use mass-composition.\n\nDesign notes:\nOnce data is loaded chemical analyte names and H2O will conform to the internal standard.\n"
      ]
    },
    {
      "cell_type": "code",
      "execution_count": null,
      "metadata": {
        "collapsed": false
      },
      "outputs": [],
      "source": [
        "import numpy as np\nimport plotly\nimport plotly.graph_objects as go"
      ]
    },
    {
      "cell_type": "markdown",
      "metadata": {},
      "source": [
        "## This is a demo\n\nWe create a simple interactive plot\n\n"
      ]
    },
    {
      "cell_type": "code",
      "execution_count": null,
      "metadata": {
        "collapsed": false
      },
      "outputs": [],
      "source": [
        "fig = go.Figure(data=go.Scatter(\n    y=np.random.randn(500),\n    mode='markers',\n    marker=dict(\n        size=16,\n        color=np.random.randn(500),  # set color equal to a variable\n        colorscale='Viridis',  # one of plotly colorscales\n        showscale=True\n    )\n))\n\n# noinspection PyTypeChecker\nplotly.io.show(fig)  # this call to show will set the thumbnail for use in the gallery"
      ]
    }
  ],
  "metadata": {
    "kernelspec": {
      "display_name": "Python 3",
      "language": "python",
      "name": "python3"
    },
    "language_info": {
      "codemirror_mode": {
        "name": "ipython",
        "version": 3
      },
      "file_extension": ".py",
      "mimetype": "text/x-python",
      "name": "python",
      "nbconvert_exporter": "python",
      "pygments_lexer": "ipython3",
      "version": "3.11.4"
    }
  },
  "nbformat": 4,
  "nbformat_minor": 0
}